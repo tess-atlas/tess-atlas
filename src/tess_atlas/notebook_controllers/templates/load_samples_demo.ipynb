{
 "cells": [
  {
   "cell_type": "markdown",
   "id": "8ec8a870",
   "metadata": {
    "tags": [
     "def"
    ]
   },
   "source": [
    "# Example Loader\n",
    "\n",
    "Here we demonstrate how to\n",
    "1. Download a TESS-Atlas TOI fit\n",
    "2. Load the stored TOIs data (lightcurve, posterior, stellar parameters)\n",
    "3. Load and make plots of _all_ TOI fits\n",
    "\n",
    "## Setup"
   ]
  },
  {
   "cell_type": "code",
   "execution_count": null,
   "id": "215af25a",
   "metadata": {
    "lines_to_end_of_cell_marker": 2,
    "pycharm": {
     "name": "#%%\n"
    },
    "tags": [
     "def",
     "hide-cell"
    ]
   },
   "outputs": [],
   "source": [
    "%load_ext autoreload\n",
    "%load_ext memory_profiler\n",
    "%load_ext autotime\n",
    "# %load_ext jupyternotify\n",
    "%autoreload 2\n",
    "%matplotlib inline\n",
    "\n",
    "import glob\n",
    "import logging\n",
    "import os\n",
    "from typing import List\n",
    "\n",
    "import pandas as pd\n",
    "import tqdm\n",
    "\n",
    "\n",
    "from tess_atlas.utils import get_notebook_logger, notebook_initalisations\n",
    "from tess_atlas.plotting import (\n",
    "    plot_toi_list_radius_vs_period,\n",
    "    plot_exofop_vs_atlas_comparison,\n",
    ")\n",
    "\n",
    "OUTDIR = \"example_loader_files\"\n",
    "\n",
    "\n",
    "notebook_initalisations()\n",
    "logger = get_notebook_logger(OUTDIR)"
   ]
  },
  {
   "cell_type": "markdown",
   "id": "32521d4e",
   "metadata": {},
   "source": [
    "## Download a TESS-Atlas fit\n",
    "\n",
    "To download the notebook and results for a TOI (for example TOI 103) you could use the following:"
   ]
  },
  {
   "cell_type": "code",
   "execution_count": null,
   "id": "149a5035",
   "metadata": {},
   "outputs": [],
   "source": [
    "! download_toi 103 --outdir ."
   ]
  },
  {
   "cell_type": "markdown",
   "id": "2311175b",
   "metadata": {},
   "source": [
    "This downloads the notebook along with the results in the specified directory. You can now open that notebook up to load the results or rerun the analysis.\n",
    "\n",
    "Alternatively, you can also load the results of a TOI (eg TOI 174) in a notebook that you have open with the following:"
   ]
  },
  {
   "cell_type": "code",
   "execution_count": null,
   "id": "507c7e1b",
   "metadata": {},
   "outputs": [],
   "source": [
    "from tess_atlas.data import TICEntry"
   ]
  },
  {
   "cell_type": "code",
   "execution_count": null,
   "id": "9eb5a62b",
   "metadata": {},
   "outputs": [],
   "source": [
    "toi_174 = TICEntry.load(174, load_from_catalog=True)\n",
    "toi_174"
   ]
  },
  {
   "cell_type": "markdown",
   "id": "7d89350e",
   "metadata": {},
   "source": [
    "## Download all TESS-Atlas fits\n",
    "\n",
    "You may want to download _all_ TOI notebooks and fits. To do this, you can use the following.\n",
    "\n",
    "```{warning}\n",
    "This can take a longgg time!\n",
    "```\n"
   ]
  },
  {
   "cell_type": "code",
   "execution_count": null,
   "id": "eca01846",
   "metadata": {},
   "outputs": [],
   "source": [
    "! download_all_tois --outdir tois"
   ]
  },
  {
   "cell_type": "markdown",
   "id": "d17cfa71",
   "metadata": {},
   "source": [
    "Once you have all the fits you can load them up"
   ]
  },
  {
   "cell_type": "code",
   "execution_count": null,
   "id": "fc5d6364",
   "metadata": {
    "pycharm": {
     "name": "#%%\n"
    },
    "tags": [
     "exe"
    ]
   },
   "outputs": [],
   "source": [
    "SEARCH_PATH = \"./*/toi_*_files/*.netcdf\"\n",
    "\n",
    "\n",
    "def get_analysed_toi_sample_filenames() -> pd.DataFrame:\n",
    "    \"\"\"Get dataframe of analysed tic number and the path to its samples\"\"\"\n",
    "    files = glob.glob(SEARCH_PATH)\n",
    "    toi_nums = [\n",
    "        int(\"\".join(filter(str.isdigit, os.path.basename(f)))) for f in files\n",
    "    ]\n",
    "    analysed_tois = pd.DataFrame(dict(toi=toi_nums, path=files))\n",
    "    logger.info(f\"Number of analysed TOIs: {len(analysed_tois)}\")\n",
    "    return analysed_tois\n",
    "\n",
    "\n",
    "def get_tic_list_with_loaded_samples(\n",
    "    analysed_tois: List[int],\n",
    ") -> List[TICEntry]:\n",
    "    tic_list = [TICEntry.load(toi) for toi in analysed_tois]\n",
    "    for tic in tqdm.tqdm(tic_list, desc=\"Loading TIC Samples Sets\"):\n",
    "        tic.load_inference_trace()\n",
    "    return tic_list\n",
    "\n",
    "\n",
    "analysed_tois = get_analysed_toi_sample_filenames()\n",
    "analysed_tois"
   ]
  },
  {
   "cell_type": "code",
   "execution_count": null,
   "id": "abd85d43",
   "metadata": {
    "pycharm": {
     "name": "#%%\n"
    },
    "tags": [
     "exe"
    ]
   },
   "outputs": [],
   "source": [
    "tic_list = get_tic_list_with_loaded_samples(analysed_tois[\"toi\"])"
   ]
  },
  {
   "cell_type": "markdown",
   "id": "fdfeb860",
   "metadata": {
    "tags": [
     "def"
    ]
   },
   "source": [
    "To access the loaded samples, access the `.inference_trace` property:"
   ]
  },
  {
   "cell_type": "code",
   "execution_count": null,
   "id": "25e12bf2",
   "metadata": {
    "lines_to_next_cell": 2,
    "pycharm": {
     "name": "#%%\n"
    },
    "tags": [
     "exe"
    ]
   },
   "outputs": [],
   "source": [
    "tic_list[0].inference_trace"
   ]
  },
  {
   "cell_type": "markdown",
   "id": "20a40e70",
   "metadata": {
    "tags": [
     "def"
    ]
   },
   "source": [
    "Below is a summary of some of the sampled parameter values"
   ]
  },
  {
   "cell_type": "code",
   "execution_count": null,
   "id": "3e786da2",
   "metadata": {
    "pycharm": {
     "name": "#%%\n"
    },
    "tags": [
     "exe"
    ]
   },
   "outputs": [],
   "source": [
    "summary_df = pd.concat([tic.get_trace_summary() for tic in tic_list])\n",
    "summary_df"
   ]
  },
  {
   "cell_type": "markdown",
   "id": "00285c3a",
   "metadata": {},
   "source": [
    "## Downloading summary statistics\n",
    "\n",
    "Maybe you dont want all the fits, but just summary statistics for them. These can be accessed with the following:"
   ]
  },
  {
   "cell_type": "code",
   "execution_count": null,
   "id": "b366e803",
   "metadata": {},
   "outputs": [],
   "source": [
    "from tess_atlas.catalog_stats import get_summary_stats\n",
    "\n",
    "summary_stats = get_summary_stats()\n",
    "summary_stats"
   ]
  },
  {
   "cell_type": "markdown",
   "id": "d2fcc07b",
   "metadata": {},
   "source": [
    "## Plots from all the fits\n",
    "Finally, you may want to make some plots with all the results"
   ]
  },
  {
   "cell_type": "code",
   "execution_count": 1,
   "id": "51a34a11",
   "metadata": {
    "ExecuteTime": {
     "end_time": "2022-07-27T20:34:16.820404Z",
     "start_time": "2022-07-27T20:34:16.817609Z"
    },
    "lines_to_end_of_cell_marker": 2
   },
   "outputs": [],
   "source": [
    "# make some plots here\n",
    "## SEE PAPER FIGURES DIR"
   ]
  },
  {
   "cell_type": "markdown",
   "id": "cf5ce526",
   "metadata": {},
   "source": [
    "# CODE TO GENERATE SUMMARY STATS (shouldnt be here)!!!\n",
    "here temporarily so I dont lose the code.\n",
    "Ideally should be placed somewhere else\n",
    "\n",
    "Also, this should be done automatically after TOIs run\n",
    "\n"
   ]
  },
  {
   "cell_type": "code",
   "execution_count": 1,
   "id": "2c70ea87",
   "metadata": {
    "ExecuteTime": {
     "end_time": "2022-09-19T01:38:03.672195Z",
     "start_time": "2022-09-19T01:37:59.545068Z"
    }
   },
   "outputs": [
    {
     "name": "stdout",
     "output_type": "stream",
     "text": [
      "All results:\n",
      "[]\n"
     ]
    },
    {
     "data": {
      "application/vnd.jupyter.widget-view+json": {
       "model_id": "c737076b51b640d394b3d06b405de5a5",
       "version_major": 2,
       "version_minor": 0
      },
      "text/plain": [
       "Summarising TOI results: 0it [00:00, ?it/s]"
      ]
     },
     "metadata": {},
     "output_type": "display_data"
    },
    {
     "ename": "IndexError",
     "evalue": "list index out of range",
     "output_type": "error",
     "traceback": [
      "\u001b[0;31m---------------------------------------------------------------------------\u001b[0m",
      "\u001b[0;31mIndexError\u001b[0m                                Traceback (most recent call last)",
      "\u001b[0;32m<ipython-input-1-74bfd62851c7>\u001b[0m in \u001b[0;36m<module>\u001b[0;34m\u001b[0m\n\u001b[1;32m    138\u001b[0m \u001b[0;34m\u001b[0m\u001b[0m\n\u001b[1;32m    139\u001b[0m \u001b[0;34m\u001b[0m\u001b[0m\n\u001b[0;32m--> 140\u001b[0;31m \u001b[0mprocess_all_toi_results\u001b[0m\u001b[0;34m(\u001b[0m\u001b[0;34m)\u001b[0m\u001b[0;34m\u001b[0m\u001b[0;34m\u001b[0m\u001b[0m\n\u001b[0m\u001b[1;32m    141\u001b[0m \u001b[0;34m\u001b[0m\u001b[0m\n",
      "\u001b[0;32m<ipython-input-1-74bfd62851c7>\u001b[0m in \u001b[0;36mprocess_all_toi_results\u001b[0;34m()\u001b[0m\n\u001b[1;32m    116\u001b[0m         \u001b[0mjson\u001b[0m\u001b[0;34m.\u001b[0m\u001b[0mdump\u001b[0m\u001b[0;34m(\u001b[0m\u001b[0msummary_info\u001b[0m\u001b[0;34m,\u001b[0m \u001b[0moutfile\u001b[0m\u001b[0;34m)\u001b[0m\u001b[0;34m\u001b[0m\u001b[0;34m\u001b[0m\u001b[0m\n\u001b[1;32m    117\u001b[0m \u001b[0;34m\u001b[0m\u001b[0m\n\u001b[0;32m--> 118\u001b[0;31m     \u001b[0mprint\u001b[0m\u001b[0;34m(\u001b[0m\u001b[0;34mf\"One TOI summary: {get_pd_summary(samp_fns[0]).T.to_dict()}\"\u001b[0m\u001b[0;34m)\u001b[0m\u001b[0;34m\u001b[0m\u001b[0;34m\u001b[0m\u001b[0m\n\u001b[0m\u001b[1;32m    119\u001b[0m     \u001b[0mprint\u001b[0m\u001b[0;34m(\u001b[0m\u001b[0;34m\"Converting summary to dataframe\"\u001b[0m\u001b[0;34m)\u001b[0m\u001b[0;34m\u001b[0m\u001b[0;34m\u001b[0m\u001b[0m\n\u001b[1;32m    120\u001b[0m     \u001b[0mdf\u001b[0m \u001b[0;34m=\u001b[0m \u001b[0mget_populoation_summary\u001b[0m\u001b[0;34m(\u001b[0m\u001b[0msummary_info\u001b[0m\u001b[0;34m)\u001b[0m\u001b[0;34m\u001b[0m\u001b[0;34m\u001b[0m\u001b[0m\n",
      "\u001b[0;31mIndexError\u001b[0m: list index out of range"
     ]
    }
   ],
   "source": [
    "\"\"\"\n",
    "VERY MESSY CODE ATM -- shouldnt be in this notebook but in its _own_ module\n",
    "\n",
    "Finds all idata objects from pymc3\n",
    "Reads them and extracts summary info\n",
    "Saves summary info in a JSON and CSV for future plotting\n",
    "\"\"\"\n",
    "\n",
    "\n",
    "from arviz import InferenceData\n",
    "import arviz as az\n",
    "import pandas as pd\n",
    "from glob import glob\n",
    "from tqdm.auto import tqdm\n",
    "import re\n",
    "import warnings\n",
    "import json\n",
    "\n",
    "\n",
    "R_earth = 6378100\n",
    "R_sun = 695700000\n",
    "\n",
    "warnings.filterwarnings(\"ignore\")\n",
    "\n",
    "\n",
    "EXOFOP = \"https://exofop.ipac.caltech.edu/tess/\"\n",
    "TIC_DATASOURCE = EXOFOP + \"download_toi.php?sort=toi&output=csv\"\n",
    "\n",
    "\n",
    "def get_exopfop_db():\n",
    "    db = pd.read_csv(TIC_DATASOURCE)\n",
    "    print(f\"TIC database has {len(db)} entries\")\n",
    "    db[[\"TOI int\", \"planet count\"]] = (\n",
    "        db[\"TOI\"].astype(str).str.split(\".\", 1, expand=True)\n",
    "    )\n",
    "    db = db.astype({\"TOI int\": \"int\", \"planet count\": \"int\"})\n",
    "    db[\"Multiplanet System\"] = db[\"TOI int\"].duplicated(keep=False)\n",
    "    db[\"Single Transit\"] = db[\"Period (days)\"] <= 0\n",
    "    return db\n",
    "\n",
    "\n",
    "def get_idata_summary(fname):\n",
    "    inference_data = az.from_netcdf(fname)\n",
    "    df = az.summary(inference_data, filter_vars=\"like\")\n",
    "\n",
    "    #     df = (\n",
    "    #             df.transpose()\n",
    "    #             .filter(regex=r\"(.*p\\[.*)|(.*r\\[.*)\")\n",
    "    #             .transpose()\n",
    "    #         )\n",
    "    df = df[[\"mean\", \"sd\", \"r_hat\"]]\n",
    "    return df.T.to_dict()\n",
    "\n",
    "\n",
    "def get_pd_summary(fname):\n",
    "    df = pd.read_csv(fname)\n",
    "    df = df.describe()\n",
    "    df = df.filter(regex=r\"(.*p\\[.*)|(.*r\\[.*)\").transpose()\n",
    "    df[\"sd\"] = df[\"std\"]\n",
    "    df = df[[\"mean\", \"sd\"]]\n",
    "    return df.T.to_dict()\n",
    "\n",
    "\n",
    "def toi_num(f):\n",
    "    toi_str = re.search(r\"toi_(.*\\d)\", f).group()\n",
    "    return int(toi_str.split(\"_\")[1])\n",
    "\n",
    "\n",
    "def get_populoation_summary(summary_info):\n",
    "    toi_id, p_means, r_means, p_sds, r_sds, rhat_oks = [], [], [], [], [], []\n",
    "    for toi_num, toi_dat in summary_info.items():\n",
    "\n",
    "        # get rhat info for TOI\n",
    "        rhat_ok = True\n",
    "        for param_dat in toi_dat.values():\n",
    "            if param_dat[\"r_hat\"] > 1.1:\n",
    "                rhat_ok = False\n",
    "\n",
    "        # store each TOI planet's info\n",
    "        p_id = 0\n",
    "        while f\"r[{p_id}]\" in toi_dat:\n",
    "            toi_id.append(float(f\"{toi_num}.{p_id+1:002d}\"))\n",
    "            p_means.append(toi_dat[f\"p[{p_id}]\"][\"mean\"])\n",
    "            p_sds.append(toi_dat[f\"p[{p_id}]\"][\"sd\"])\n",
    "            r_means.append(toi_dat[f\"r[{p_id}]\"][\"mean\"])\n",
    "            r_sds.append(toi_dat[f\"r[{p_id}]\"][\"sd\"])\n",
    "            rhat_oks.append(rhat_ok)\n",
    "            p_id += 1\n",
    "\n",
    "    return pd.DataFrame(\n",
    "        dict(\n",
    "            TOI=toi_id,\n",
    "            p_mean=p_means,\n",
    "            p_sd=p_sds,\n",
    "            r_mean=r_means,\n",
    "            r_sd=r_sds,\n",
    "            rhat_ok=rhat_oks,\n",
    "        )\n",
    "    )\n",
    "\n",
    "\n",
    "def process_all_toi_results():\n",
    "    root = \"july12_cat/0.2.1.dev64+gc7fa3a0/toi_*_files\"\n",
    "    samp_fns = glob(f\"{root}/samples.csv\")\n",
    "    idata_fns = glob(f\"{root}/inference_data.netcdf\")\n",
    "\n",
    "    print(\"All results:\")\n",
    "    print(idata_fns)\n",
    "\n",
    "    # open and summarise _all_ toi results\n",
    "    summary_info = {}\n",
    "    for idata_fn in tqdm(idata_fns, desc=\"Summarising TOI results\"):\n",
    "        summary_info[toi_num(data_fn)] = get_idata_summary(idata_fn)\n",
    "\n",
    "    with open(\"summary_stats.json\", \"w\") as outfile:\n",
    "        json.dump(summary_info, outfile)\n",
    "\n",
    "    print(f\"One TOI summary: {get_pd_summary(samp_fns[0]).T.to_dict()}\")\n",
    "    print(\"Converting summary to dataframe\")\n",
    "    df = get_populoation_summary(summary_info)\n",
    "\n",
    "    # download EXOFOP stats\n",
    "    exofop = get_exopfop_db()\n",
    "    exofop.to_csv(\"exofop.csv\", index=False)\n",
    "    exofop = pd.read_csv(\"exofop.csv\")\n",
    "\n",
    "    # combine exofop results with our results\n",
    "    combined = pd.merge(right=df, left=exofop, on=\"TOI\", how=\"outer\")\n",
    "    combined[\"exo_r\"] = (R_earth * combined[\"Planet Radius (R_Earth)\"]) / (\n",
    "        R_sun * combined[\"Stellar Radius (R_Sun)\"]\n",
    "    )\n",
    "    combined.to_csv(\"combined_res.csv\", index=False)\n",
    "    print(\"Result summary stored in combined_res.csv\")\n",
    "    return combined\n",
    "\n",
    "\n",
    "process_all_toi_results()"
   ]
  }
 ],
 "metadata": {
  "celltoolbar": "Tags",
  "jupytext": {
   "encoding": "# -*- coding: utf-8 -*-",
   "formats": "ipynb,py:light"
  },
  "kernelspec": {
   "display_name": "Python 3 (ipykernel)",
   "language": "python",
   "name": "python3"
  },
  "language_info": {
   "codemirror_mode": {
    "name": "ipython",
    "version": 3
   },
   "file_extension": ".py",
   "mimetype": "text/x-python",
   "name": "python",
   "nbconvert_exporter": "python",
   "pygments_lexer": "ipython3",
   "version": "3.9.12"
  },
  "toc": {
   "base_numbering": 1,
   "nav_menu": {},
   "number_sections": true,
   "sideBar": true,
   "skip_h1_title": false,
   "title_cell": "Table of Contents",
   "title_sidebar": "Contents",
   "toc_cell": false,
   "toc_position": {},
   "toc_section_display": true,
   "toc_window_display": true
  },
  "varInspector": {
   "cols": {
    "lenName": 16,
    "lenType": 16,
    "lenVar": 40
   },
   "kernels_config": {
    "python": {
     "delete_cmd_postfix": "",
     "delete_cmd_prefix": "del ",
     "library": "var_list.py",
     "varRefreshCmd": "print(var_dic_list())"
    },
    "r": {
     "delete_cmd_postfix": ") ",
     "delete_cmd_prefix": "rm(",
     "library": "var_list.r",
     "varRefreshCmd": "cat(var_dic_list()) "
    }
   },
   "types_to_exclude": [
    "module",
    "function",
    "builtin_function_or_method",
    "instance",
    "_Feature"
   ],
   "window_display": false
  }
 },
 "nbformat": 4,
 "nbformat_minor": 5
}
