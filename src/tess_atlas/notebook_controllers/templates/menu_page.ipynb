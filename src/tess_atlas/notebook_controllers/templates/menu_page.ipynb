{
 "cells": [
  {
   "cell_type": "markdown",
   "id": "ef7cc561",
   "metadata": {
    "lines_to_next_cell": 0,
    "tags": [
     "def"
    ]
   },
   "source": [
    "# TOI Fits\n",
    "\n",
    "We analysed 2833 TOIs:\n",
    "\n",
    "- 2746 TOIs successfully analysed\n",
    "- 87 TOIs had errors\n",
    "\n",
    "Each TOI’s analysis has its own page. Here we have a summary of all the TOI fits and links to their pages.\n"
   ]
  },
  {
   "cell_type": "code",
   "execution_count": null,
   "id": "29cb3035",
   "metadata": {
    "lines_to_next_cell": 2
   },
   "outputs": [],
   "source": [
    "from itables import init_notebook_mode, show\n",
    "from \n",
    "\n",
    "init_notebook_mode(all_interactive=True)\n",
    "\n"
   ]
  }
 ],
 "metadata": {
  "jupytext": {
   "encoding": "# -*- coding: utf-8 -*-",
   "formats": "ipynb,py:light"
  },
  "kernelspec": {
   "display_name": "Python 3 (ipykernel)",
   "language": "python",
   "name": "python3"
  },
  "language_info": {
   "codemirror_mode": {
    "name": "ipython",
    "version": 3
   },
   "file_extension": ".py",
   "mimetype": "text/x-python",
   "name": "python",
   "nbconvert_exporter": "python",
   "pygments_lexer": "ipython3",
   "version": "3.10.8"
  },
  "toc": {
   "base_numbering": 1,
   "nav_menu": {},
   "number_sections": true,
   "sideBar": true,
   "skip_h1_title": false,
   "title_cell": "Table of Contents",
   "title_sidebar": "Contents",
   "toc_cell": false,
   "toc_position": {},
   "toc_section_display": true,
   "toc_window_display": true
  },
  "varInspector": {
   "cols": {
    "lenName": 16,
    "lenType": 16,
    "lenVar": 40
   },
   "kernels_config": {
    "python": {
     "delete_cmd_postfix": "",
     "delete_cmd_prefix": "del ",
     "library": "var_list.py",
     "varRefreshCmd": "print(var_dic_list())"
    },
    "r": {
     "delete_cmd_postfix": ") ",
     "delete_cmd_prefix": "rm(",
     "library": "var_list.r",
     "varRefreshCmd": "cat(var_dic_list()) "
    }
   },
   "types_to_exclude": [
    "module",
    "function",
    "builtin_function_or_method",
    "instance",
    "_Feature"
   ],
   "window_display": false
  }
 },
 "nbformat": 4,
 "nbformat_minor": 5
}
